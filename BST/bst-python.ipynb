{
 "cells": [
  {
   "cell_type": "markdown",
   "metadata": {},
   "source": [
    "Below is an Implementation of Binary Search Tree in Python\n",
    "\n",
    "1. This implementation employs Object Oriented data structure for Tree Representation.\n",
    "2. It is sorting the tree while inserting the elements via ROOT."
   ]
  },
  {
   "cell_type": "code",
   "execution_count": 1,
   "metadata": {},
   "outputs": [],
   "source": [
    "# A utility function to search a given key in BST\n",
    "def search(root,key):\n",
    "      \n",
    "    # Base Cases: root is null or key is present at root\n",
    "    if root is None or root.val == key:\n",
    "        return root\n",
    "  \n",
    "    # Key is greater than root's key \n",
    "    if root.val < key:\n",
    "        return search(root.right,key)\n",
    "    \n",
    "    # Key is smaller than root's key \n",
    "    return search(root.left,key)"
   ]
  },
  {
   "cell_type": "code",
   "execution_count": 2,
   "metadata": {},
   "outputs": [
    {
     "name": "stdout",
     "output_type": "stream",
     "text": [
      "20\n",
      "30\n",
      "40\n",
      "50\n",
      "60\n",
      "70\n",
      "80\n"
     ]
    }
   ],
   "source": [
    "# Python program to demonstrate insert operation in binary search tree \n",
    "\n",
    "# A utility class that represents an individual node in a BST \n",
    "class Node:\n",
    "\tdef __init__(self,key):\n",
    "\t\tself.left = None\n",
    "\t\tself.right = None\n",
    "\t\tself.val = key\n",
    "\n",
    "# A utility function to insert a new node with the given key \n",
    "def insert(root,node):\n",
    "\tif root is None:\n",
    "\t\troot = node\n",
    "\telse:\n",
    "\t\tif root.val < node.val:\n",
    "\t\t\tif root.right is None:\n",
    "\t\t\t\troot.right = node\n",
    "\t\t\telse: \n",
    "\t\t\t\tinsert(root.right, node)\n",
    "\t\telse:\n",
    "\t\t\tif root.left is None:\n",
    "\t\t\t\troot.left = node\n",
    "\t\t\telse:\n",
    "\t\t\t\tinsert(root.left, node)\n",
    "\n",
    "# A utility function to do inorder tree traversal \n",
    "def inorder(root):\n",
    "\tif root:\n",
    "\t\tinorder(root.left)\n",
    "\t\tprint(root.val)\n",
    "\t\tinorder(root.right)\n",
    "\n",
    "\n",
    "# Driver program to test the above functions \n",
    "# Let us create the following BST \n",
    "#\t 50 \n",
    "# /\t \\ \n",
    "# 30\t 70 \n",
    "# / \\ / \\ \n",
    "# 20 40 60 80 \n",
    "r = Node(50)\n",
    "insert(r,Node(30))\n",
    "insert(r,Node(20))\n",
    "insert(r,Node(40))\n",
    "insert(r,Node(70)) \n",
    "insert(r,Node(60))\n",
    "insert(r,Node(80))\n",
    "\n",
    "# Print inoder traversal of the BST \n",
    "inorder(r)"
   ]
  },
  {
   "cell_type": "code",
   "execution_count": 4,
   "metadata": {},
   "outputs": [
    {
     "data": {
      "text/plain": [
       "3"
      ]
     },
     "execution_count": 4,
     "metadata": {},
     "output_type": "execute_result"
    }
   ],
   "source": [
    "1+2"
   ]
  },
  {
   "cell_type": "code",
   "execution_count": 6,
   "metadata": {},
   "outputs": [
    {
     "data": {
      "text/plain": [
       "14624"
      ]
     },
     "execution_count": 6,
     "metadata": {},
     "output_type": "execute_result"
    }
   ],
   "source": [
    "12312+2312"
   ]
  }
 ],
 "metadata": {
  "kernelspec": {
   "display_name": "Python 3",
   "language": "python",
   "name": "python3"
  },
  "language_info": {
   "codemirror_mode": {
    "name": "ipython",
    "version": 3
   },
   "file_extension": ".py",
   "mimetype": "text/x-python",
   "name": "python",
   "nbconvert_exporter": "python",
   "pygments_lexer": "ipython3",
   "version": "3.7.1"
  }
 },
 "nbformat": 4,
 "nbformat_minor": 4
}
